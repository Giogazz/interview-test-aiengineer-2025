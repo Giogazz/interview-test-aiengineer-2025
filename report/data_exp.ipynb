{
 "cells": [
  {
   "cell_type": "code",
   "execution_count": 277,
   "id": "ce1a979b-bace-4fe3-9e8c-6d866e40343b",
   "metadata": {},
   "outputs": [],
   "source": [
    "import os\n",
    "import pandas as pd\n",
    "import matplotlib as plt\n",
    "import numpy as np\n",
    "import random"
   ]
  },
  {
   "cell_type": "code",
   "execution_count": 86,
   "id": "7ea52ce1-e1c2-4030-b574-d3c5229dbd71",
   "metadata": {},
   "outputs": [
    {
     "data": {
      "text/html": [
       "<div>\n",
       "<style scoped>\n",
       "    .dataframe tbody tr th:only-of-type {\n",
       "        vertical-align: middle;\n",
       "    }\n",
       "\n",
       "    .dataframe tbody tr th {\n",
       "        vertical-align: top;\n",
       "    }\n",
       "\n",
       "    .dataframe thead th {\n",
       "        text-align: right;\n",
       "    }\n",
       "</style>\n",
       "<table border=\"1\" class=\"dataframe\">\n",
       "  <thead>\n",
       "    <tr style=\"text-align: right;\">\n",
       "      <th></th>\n",
       "      <th>parent_sha</th>\n",
       "      <th>child_sha</th>\n",
       "      <th>old_file</th>\n",
       "      <th>new_file</th>\n",
       "      <th>old_lines</th>\n",
       "      <th>new_lines</th>\n",
       "      <th>old_author</th>\n",
       "      <th>new_author</th>\n",
       "      <th>when</th>\n",
       "    </tr>\n",
       "  </thead>\n",
       "  <tbody>\n",
       "    <tr>\n",
       "      <th>0</th>\n",
       "      <td>7189ba7f513bced49b18dd95172b43e3c67822f9</td>\n",
       "      <td>9985d9028f11e200dcb3fe402eb73d343ee92209</td>\n",
       "      <td>arcan-2/pom.xml</td>\n",
       "      <td>arcan-2/pom.xml</td>\n",
       "      <td>0</td>\n",
       "      <td>106</td>\n",
       "      <td>Ilaria Pigazzini</td>\n",
       "      <td>Darius Sas</td>\n",
       "      <td>2019-09-25 09:17:20 UTC</td>\n",
       "    </tr>\n",
       "    <tr>\n",
       "      <th>1</th>\n",
       "      <td>7189ba7f513bced49b18dd95172b43e3c67822f9</td>\n",
       "      <td>9985d9028f11e200dcb3fe402eb73d343ee92209</td>\n",
       "      <td>arcan-2/src/main/java/com/arcan/Main.java</td>\n",
       "      <td>arcan-2/src/main/java/com/arcan/Main.java</td>\n",
       "      <td>0</td>\n",
       "      <td>7</td>\n",
       "      <td>Ilaria Pigazzini</td>\n",
       "      <td>Darius Sas</td>\n",
       "      <td>2019-09-25 09:17:20 UTC</td>\n",
       "    </tr>\n",
       "    <tr>\n",
       "      <th>2</th>\n",
       "      <td>7189ba7f513bced49b18dd95172b43e3c67822f9</td>\n",
       "      <td>9985d9028f11e200dcb3fe402eb73d343ee92209</td>\n",
       "      <td>arcan-2/src/test/java/com/arcan/MainTest.java</td>\n",
       "      <td>arcan-2/src/test/java/com/arcan/MainTest.java</td>\n",
       "      <td>0</td>\n",
       "      <td>13</td>\n",
       "      <td>Ilaria Pigazzini</td>\n",
       "      <td>Darius Sas</td>\n",
       "      <td>2019-09-25 09:17:20 UTC</td>\n",
       "    </tr>\n",
       "    <tr>\n",
       "      <th>3</th>\n",
       "      <td>9985d9028f11e200dcb3fe402eb73d343ee92209</td>\n",
       "      <td>f877c6438cfcf18a8e06d33de95e14e113400131</td>\n",
       "      <td>arcan-2/pom.xml</td>\n",
       "      <td>arcan-2/pom.xml</td>\n",
       "      <td>0</td>\n",
       "      <td>12</td>\n",
       "      <td>Darius Sas</td>\n",
       "      <td>Darius Sas</td>\n",
       "      <td>2019-09-27 14:06:24 UTC</td>\n",
       "    </tr>\n",
       "    <tr>\n",
       "      <th>4</th>\n",
       "      <td>9985d9028f11e200dcb3fe402eb73d343ee92209</td>\n",
       "      <td>f877c6438cfcf18a8e06d33de95e14e113400131</td>\n",
       "      <td>arcan-2/src/main/java/com/arcan/data/graphs/de...</td>\n",
       "      <td>arcan-2/src/main/java/com/arcan/data/graphs/de...</td>\n",
       "      <td>0</td>\n",
       "      <td>17</td>\n",
       "      <td>Darius Sas</td>\n",
       "      <td>Darius Sas</td>\n",
       "      <td>2019-09-27 14:06:24 UTC</td>\n",
       "    </tr>\n",
       "  </tbody>\n",
       "</table>\n",
       "</div>"
      ],
      "text/plain": [
       "                                 parent_sha  \\\n",
       "0  7189ba7f513bced49b18dd95172b43e3c67822f9   \n",
       "1  7189ba7f513bced49b18dd95172b43e3c67822f9   \n",
       "2  7189ba7f513bced49b18dd95172b43e3c67822f9   \n",
       "3  9985d9028f11e200dcb3fe402eb73d343ee92209   \n",
       "4  9985d9028f11e200dcb3fe402eb73d343ee92209   \n",
       "\n",
       "                                  child_sha  \\\n",
       "0  9985d9028f11e200dcb3fe402eb73d343ee92209   \n",
       "1  9985d9028f11e200dcb3fe402eb73d343ee92209   \n",
       "2  9985d9028f11e200dcb3fe402eb73d343ee92209   \n",
       "3  f877c6438cfcf18a8e06d33de95e14e113400131   \n",
       "4  f877c6438cfcf18a8e06d33de95e14e113400131   \n",
       "\n",
       "                                            old_file  \\\n",
       "0                                    arcan-2/pom.xml   \n",
       "1          arcan-2/src/main/java/com/arcan/Main.java   \n",
       "2      arcan-2/src/test/java/com/arcan/MainTest.java   \n",
       "3                                    arcan-2/pom.xml   \n",
       "4  arcan-2/src/main/java/com/arcan/data/graphs/de...   \n",
       "\n",
       "                                            new_file  old_lines  new_lines  \\\n",
       "0                                    arcan-2/pom.xml          0        106   \n",
       "1          arcan-2/src/main/java/com/arcan/Main.java          0          7   \n",
       "2      arcan-2/src/test/java/com/arcan/MainTest.java          0         13   \n",
       "3                                    arcan-2/pom.xml          0         12   \n",
       "4  arcan-2/src/main/java/com/arcan/data/graphs/de...          0         17   \n",
       "\n",
       "         old_author  new_author                     when  \n",
       "0  Ilaria Pigazzini  Darius Sas  2019-09-25 09:17:20 UTC  \n",
       "1  Ilaria Pigazzini  Darius Sas  2019-09-25 09:17:20 UTC  \n",
       "2  Ilaria Pigazzini  Darius Sas  2019-09-25 09:17:20 UTC  \n",
       "3        Darius Sas  Darius Sas  2019-09-27 14:06:24 UTC  \n",
       "4        Darius Sas  Darius Sas  2019-09-27 14:06:24 UTC  "
      ]
     },
     "execution_count": 86,
     "metadata": {},
     "output_type": "execute_result"
    }
   ],
   "source": [
    "#import csv file\n",
    "csv_path = '../data/arcan-2-develop-none.csv'\n",
    "\n",
    "#show head of df\n",
    "df = pd.read_csv(csv_path)\n",
    "df.head()"
   ]
  },
  {
   "cell_type": "code",
   "execution_count": 87,
   "id": "00ea16b8-cf82-40a9-b3e5-635fb9e34fa4",
   "metadata": {},
   "outputs": [
    {
     "name": "stdout",
     "output_type": "stream",
     "text": [
      "Total rows: 43160\n",
      "Total columns: 9\n",
      "Are there any null values: False\n",
      "\n",
      "Unique parent_sha: 1779\n",
      "Unique child_sha: 1779\n",
      "Unique old_file: 3835\n",
      "Unique new_file: 3835\n",
      "Unique old_lines: 430\n",
      "Unique new_lines: 433\n",
      "Unique old_author: 8\n",
      "Unique new_author: 8\n",
      "Unique when: 1770\n",
      "\n",
      "Files re-named with a commit: 0\n"
     ]
    }
   ],
   "source": [
    "###SHOW SOME STATISTICS\n",
    "print(f\"Total rows: {len(df)}\")\n",
    "print(f\"Total columns: {len(df.columns)}\")\n",
    "print(f\"Are there any null values: {df.isnull().values.any()}\\n\")\n",
    "\n",
    "unique_values = dict(df.nunique())\n",
    "for key in unique_values.keys(): print(f\"Unique {key}: {unique_values[key]}\")\n",
    "\n",
    "print(f\"\\nFiles re-named with a commit: {len(df[df['old_file'] != df['new_file']])}\")"
   ]
  },
  {
   "cell_type": "code",
   "execution_count": 88,
   "id": "eaddcb5c-a962-4f4c-b78f-9ccd0521d093",
   "metadata": {},
   "outputs": [],
   "source": [
    "##DROP usless columns\n",
    "df = df.drop(['new_file', 'old_lines', 'new_lines', 'old_lines', 'old_author','when'], axis=1)"
   ]
  },
  {
   "cell_type": "code",
   "execution_count": 111,
   "id": "da69877f-4bfa-4cbb-bf4c-541671bbc8be",
   "metadata": {},
   "outputs": [],
   "source": [
    "#Group files that changed with the same commit and the commit author\n",
    "df_selected = df.groupby(['parent_sha','child_sha'], group_keys=False, as_index=False).agg({'old_file': list, 'new_author': 'first'})"
   ]
  },
  {
   "cell_type": "code",
   "execution_count": 112,
   "id": "b6752d8a-ab07-4217-a6da-1b29573f5bc0",
   "metadata": {},
   "outputs": [
    {
     "data": {
      "text/html": [
       "<div>\n",
       "<style scoped>\n",
       "    .dataframe tbody tr th:only-of-type {\n",
       "        vertical-align: middle;\n",
       "    }\n",
       "\n",
       "    .dataframe tbody tr th {\n",
       "        vertical-align: top;\n",
       "    }\n",
       "\n",
       "    .dataframe thead th {\n",
       "        text-align: right;\n",
       "    }\n",
       "</style>\n",
       "<table border=\"1\" class=\"dataframe\">\n",
       "  <thead>\n",
       "    <tr style=\"text-align: right;\">\n",
       "      <th></th>\n",
       "      <th>parent_sha</th>\n",
       "      <th>child_sha</th>\n",
       "      <th>old_file</th>\n",
       "      <th>new_author</th>\n",
       "    </tr>\n",
       "  </thead>\n",
       "  <tbody>\n",
       "    <tr>\n",
       "      <th>0</th>\n",
       "      <td>00117552ddef1a12866a67a83e759e68ca41428d</td>\n",
       "      <td>678b25ae45dfa7dfab3d2de0f68ac355fd3e9ee7</td>\n",
       "      <td>[arcan-2/arcan-core/pom.xml, arcan-2/arcan-cor...</td>\n",
       "      <td>Darius</td>\n",
       "    </tr>\n",
       "    <tr>\n",
       "      <th>1</th>\n",
       "      <td>005600f8e3d0aec24bb92ec88ada1df550cb994e</td>\n",
       "      <td>6485d133ad7b2ce8b9135cc1b7334b9b1bfaa614</td>\n",
       "      <td>[arcan-2/src/main/java/com/arcan/SpringMain.ja...</td>\n",
       "      <td>Darius Sas</td>\n",
       "    </tr>\n",
       "    <tr>\n",
       "      <th>2</th>\n",
       "      <td>00599a731d5e665ec136e4889abeb76bdc8a46b0</td>\n",
       "      <td>cffd4ae52f2068fcb68d10c3f556ca26edf6e5f4</td>\n",
       "      <td>[arcan-2/arcan-core/src/main/java/com/arcan/pa...</td>\n",
       "      <td>Darius</td>\n",
       "    </tr>\n",
       "    <tr>\n",
       "      <th>3</th>\n",
       "      <td>00c35d5b071abcba3d1faadaf675f71eb01e9c6f</td>\n",
       "      <td>13f6663ec37a77f073ee73ef2dd1754f90150104</td>\n",
       "      <td>[arcan-2/arcan-core/src/test/java/com/arcan/da...</td>\n",
       "      <td>Darius Sas</td>\n",
       "    </tr>\n",
       "    <tr>\n",
       "      <th>4</th>\n",
       "      <td>00f4d537a2a8dbb78d70f181945f08fcd5dc6e9c</td>\n",
       "      <td>a5cb3b5d5c97066e001915d2d7535f358e199c28</td>\n",
       "      <td>[arcan-2/arcan-core/pom.xml, arcan-2/arcan-cor...</td>\n",
       "      <td>Darius</td>\n",
       "    </tr>\n",
       "    <tr>\n",
       "      <th>...</th>\n",
       "      <td>...</td>\n",
       "      <td>...</td>\n",
       "      <td>...</td>\n",
       "      <td>...</td>\n",
       "    </tr>\n",
       "    <tr>\n",
       "      <th>1774</th>\n",
       "      <td>fef84192d7a8499462d5d4f5ec3c66c2284583bb</td>\n",
       "      <td>e8ecae209fa43943e4e36175476c6c724a2a11ab</td>\n",
       "      <td>[arcan-2/arcan-server/executable/arcan-server....</td>\n",
       "      <td>Darius Sas</td>\n",
       "    </tr>\n",
       "    <tr>\n",
       "      <th>1775</th>\n",
       "      <td>ff2a133ff8b2fad7af018cc8ee8a6384c3162163</td>\n",
       "      <td>20c5390cd770cc3d9e1ed6696fa675fd0acece10</td>\n",
       "      <td>[arcan-2/arcan-cli/pom.xml, arcan-2/arcan-cli/...</td>\n",
       "      <td>Darius</td>\n",
       "    </tr>\n",
       "    <tr>\n",
       "      <th>1776</th>\n",
       "      <td>ff5479369df08a1cdff1b92c7f14dd7cafc2fbf0</td>\n",
       "      <td>2a3ead2319546e1c305f6dc5f83f5713fc24f740</td>\n",
       "      <td>[arcan-2/src/main/java/com/arcan/ArcanMain.jav...</td>\n",
       "      <td>Darius Sas</td>\n",
       "    </tr>\n",
       "    <tr>\n",
       "      <th>1777</th>\n",
       "      <td>ff8e666cecd3c1f5d0eb56427d9d316100be06e4</td>\n",
       "      <td>839cfec7855666333653df07323bf7803bcca7c0</td>\n",
       "      <td>[arcan-2/.github/workflows/develop.yml]</td>\n",
       "      <td>Alessandro Tundo</td>\n",
       "    </tr>\n",
       "    <tr>\n",
       "      <th>1778</th>\n",
       "      <td>ffd48d4356552a76896a5bf68cfdbc25289d68ae</td>\n",
       "      <td>c4184b7d7054204baf3c798c97f96ef001933845</td>\n",
       "      <td>[arcan-2/pom.xml, arcan-2/src/main/java/com/ar...</td>\n",
       "      <td>Darius Sas</td>\n",
       "    </tr>\n",
       "  </tbody>\n",
       "</table>\n",
       "<p>1779 rows × 4 columns</p>\n",
       "</div>"
      ],
      "text/plain": [
       "                                    parent_sha  \\\n",
       "0     00117552ddef1a12866a67a83e759e68ca41428d   \n",
       "1     005600f8e3d0aec24bb92ec88ada1df550cb994e   \n",
       "2     00599a731d5e665ec136e4889abeb76bdc8a46b0   \n",
       "3     00c35d5b071abcba3d1faadaf675f71eb01e9c6f   \n",
       "4     00f4d537a2a8dbb78d70f181945f08fcd5dc6e9c   \n",
       "...                                        ...   \n",
       "1774  fef84192d7a8499462d5d4f5ec3c66c2284583bb   \n",
       "1775  ff2a133ff8b2fad7af018cc8ee8a6384c3162163   \n",
       "1776  ff5479369df08a1cdff1b92c7f14dd7cafc2fbf0   \n",
       "1777  ff8e666cecd3c1f5d0eb56427d9d316100be06e4   \n",
       "1778  ffd48d4356552a76896a5bf68cfdbc25289d68ae   \n",
       "\n",
       "                                     child_sha  \\\n",
       "0     678b25ae45dfa7dfab3d2de0f68ac355fd3e9ee7   \n",
       "1     6485d133ad7b2ce8b9135cc1b7334b9b1bfaa614   \n",
       "2     cffd4ae52f2068fcb68d10c3f556ca26edf6e5f4   \n",
       "3     13f6663ec37a77f073ee73ef2dd1754f90150104   \n",
       "4     a5cb3b5d5c97066e001915d2d7535f358e199c28   \n",
       "...                                        ...   \n",
       "1774  e8ecae209fa43943e4e36175476c6c724a2a11ab   \n",
       "1775  20c5390cd770cc3d9e1ed6696fa675fd0acece10   \n",
       "1776  2a3ead2319546e1c305f6dc5f83f5713fc24f740   \n",
       "1777  839cfec7855666333653df07323bf7803bcca7c0   \n",
       "1778  c4184b7d7054204baf3c798c97f96ef001933845   \n",
       "\n",
       "                                               old_file        new_author  \n",
       "0     [arcan-2/arcan-core/pom.xml, arcan-2/arcan-cor...            Darius  \n",
       "1     [arcan-2/src/main/java/com/arcan/SpringMain.ja...        Darius Sas  \n",
       "2     [arcan-2/arcan-core/src/main/java/com/arcan/pa...            Darius  \n",
       "3     [arcan-2/arcan-core/src/test/java/com/arcan/da...        Darius Sas  \n",
       "4     [arcan-2/arcan-core/pom.xml, arcan-2/arcan-cor...            Darius  \n",
       "...                                                 ...               ...  \n",
       "1774  [arcan-2/arcan-server/executable/arcan-server....        Darius Sas  \n",
       "1775  [arcan-2/arcan-cli/pom.xml, arcan-2/arcan-cli/...            Darius  \n",
       "1776  [arcan-2/src/main/java/com/arcan/ArcanMain.jav...        Darius Sas  \n",
       "1777            [arcan-2/.github/workflows/develop.yml]  Alessandro Tundo  \n",
       "1778  [arcan-2/pom.xml, arcan-2/src/main/java/com/ar...        Darius Sas  \n",
       "\n",
       "[1779 rows x 4 columns]"
      ]
     },
     "execution_count": 112,
     "metadata": {},
     "output_type": "execute_result"
    }
   ],
   "source": [
    "df_selected"
   ]
  },
  {
   "cell_type": "code",
   "execution_count": 115,
   "id": "7cb91936-dee3-4ae1-8fa5-61734a2b14ef",
   "metadata": {},
   "outputs": [],
   "source": [
    "##DROP now parent_sha and child_sha columns\n",
    "df_selected = df_selected.drop(['parent_sha', 'child_sha'], axis=1)"
   ]
  },
  {
   "cell_type": "code",
   "execution_count": 116,
   "id": "8d544ac6-d395-48bb-bf09-7e9f9ef713e3",
   "metadata": {},
   "outputs": [
    {
     "data": {
      "text/html": [
       "<div>\n",
       "<style scoped>\n",
       "    .dataframe tbody tr th:only-of-type {\n",
       "        vertical-align: middle;\n",
       "    }\n",
       "\n",
       "    .dataframe tbody tr th {\n",
       "        vertical-align: top;\n",
       "    }\n",
       "\n",
       "    .dataframe thead th {\n",
       "        text-align: right;\n",
       "    }\n",
       "</style>\n",
       "<table border=\"1\" class=\"dataframe\">\n",
       "  <thead>\n",
       "    <tr style=\"text-align: right;\">\n",
       "      <th></th>\n",
       "      <th>old_file</th>\n",
       "      <th>new_author</th>\n",
       "    </tr>\n",
       "  </thead>\n",
       "  <tbody>\n",
       "    <tr>\n",
       "      <th>0</th>\n",
       "      <td>[arcan-2/arcan-core/pom.xml, arcan-2/arcan-cor...</td>\n",
       "      <td>Darius</td>\n",
       "    </tr>\n",
       "    <tr>\n",
       "      <th>1</th>\n",
       "      <td>[arcan-2/src/main/java/com/arcan/SpringMain.ja...</td>\n",
       "      <td>Darius Sas</td>\n",
       "    </tr>\n",
       "    <tr>\n",
       "      <th>2</th>\n",
       "      <td>[arcan-2/arcan-core/src/main/java/com/arcan/pa...</td>\n",
       "      <td>Darius</td>\n",
       "    </tr>\n",
       "    <tr>\n",
       "      <th>3</th>\n",
       "      <td>[arcan-2/arcan-core/src/test/java/com/arcan/da...</td>\n",
       "      <td>Darius Sas</td>\n",
       "    </tr>\n",
       "    <tr>\n",
       "      <th>4</th>\n",
       "      <td>[arcan-2/arcan-core/pom.xml, arcan-2/arcan-cor...</td>\n",
       "      <td>Darius</td>\n",
       "    </tr>\n",
       "    <tr>\n",
       "      <th>...</th>\n",
       "      <td>...</td>\n",
       "      <td>...</td>\n",
       "    </tr>\n",
       "    <tr>\n",
       "      <th>1774</th>\n",
       "      <td>[arcan-2/arcan-server/executable/arcan-server....</td>\n",
       "      <td>Darius Sas</td>\n",
       "    </tr>\n",
       "    <tr>\n",
       "      <th>1775</th>\n",
       "      <td>[arcan-2/arcan-cli/pom.xml, arcan-2/arcan-cli/...</td>\n",
       "      <td>Darius</td>\n",
       "    </tr>\n",
       "    <tr>\n",
       "      <th>1776</th>\n",
       "      <td>[arcan-2/src/main/java/com/arcan/ArcanMain.jav...</td>\n",
       "      <td>Darius Sas</td>\n",
       "    </tr>\n",
       "    <tr>\n",
       "      <th>1777</th>\n",
       "      <td>[arcan-2/.github/workflows/develop.yml]</td>\n",
       "      <td>Alessandro Tundo</td>\n",
       "    </tr>\n",
       "    <tr>\n",
       "      <th>1778</th>\n",
       "      <td>[arcan-2/pom.xml, arcan-2/src/main/java/com/ar...</td>\n",
       "      <td>Darius Sas</td>\n",
       "    </tr>\n",
       "  </tbody>\n",
       "</table>\n",
       "<p>1779 rows × 2 columns</p>\n",
       "</div>"
      ],
      "text/plain": [
       "                                               old_file        new_author\n",
       "0     [arcan-2/arcan-core/pom.xml, arcan-2/arcan-cor...            Darius\n",
       "1     [arcan-2/src/main/java/com/arcan/SpringMain.ja...        Darius Sas\n",
       "2     [arcan-2/arcan-core/src/main/java/com/arcan/pa...            Darius\n",
       "3     [arcan-2/arcan-core/src/test/java/com/arcan/da...        Darius Sas\n",
       "4     [arcan-2/arcan-core/pom.xml, arcan-2/arcan-cor...            Darius\n",
       "...                                                 ...               ...\n",
       "1774  [arcan-2/arcan-server/executable/arcan-server....        Darius Sas\n",
       "1775  [arcan-2/arcan-cli/pom.xml, arcan-2/arcan-cli/...            Darius\n",
       "1776  [arcan-2/src/main/java/com/arcan/ArcanMain.jav...        Darius Sas\n",
       "1777            [arcan-2/.github/workflows/develop.yml]  Alessandro Tundo\n",
       "1778  [arcan-2/pom.xml, arcan-2/src/main/java/com/ar...        Darius Sas\n",
       "\n",
       "[1779 rows x 2 columns]"
      ]
     },
     "execution_count": 116,
     "metadata": {},
     "output_type": "execute_result"
    }
   ],
   "source": [
    "df_selected"
   ]
  },
  {
   "cell_type": "code",
   "execution_count": 234,
   "id": "04336237-04b4-49ed-b843-a4bfeb846d24",
   "metadata": {},
   "outputs": [
    {
     "name": "stdout",
     "output_type": "stream",
     "text": [
      "Num files: 3835\n"
     ]
    }
   ],
   "source": [
    "#get unique filepath\n",
    "unique_filepath = sorted(list(set(df['old_file'])), key=lambda x: len(x.split('/')))\n",
    "num_filepath = len(unique_filepath)\n",
    "print(f\"Num files: {num_filepath}\")\n",
    "\n",
    "id_to_file = {file: index for index,file in enumerate(unique_filepath)}\n",
    "\n",
    "#convert each file into a sparse vector\n",
    "sparse_vectors = np.diag(np.full(len(unique_filepath), 1)) "
   ]
  },
  {
   "cell_type": "code",
   "execution_count": 235,
   "id": "29d500f1-a576-49a1-adf6-e2425692f74a",
   "metadata": {},
   "outputs": [
    {
     "data": {
      "text/plain": [
       "array([[1, 0, 0, ..., 0, 0, 0],\n",
       "       [0, 1, 0, ..., 0, 0, 0],\n",
       "       [0, 0, 1, ..., 0, 0, 0],\n",
       "       ...,\n",
       "       [0, 0, 0, ..., 1, 0, 0],\n",
       "       [0, 0, 0, ..., 0, 1, 0],\n",
       "       [0, 0, 0, ..., 0, 0, 1]])"
      ]
     },
     "execution_count": 235,
     "metadata": {},
     "output_type": "execute_result"
    }
   ],
   "source": [
    "sparse_vectors"
   ]
  },
  {
   "cell_type": "code",
   "execution_count": 249,
   "id": "682d4738-8c2d-4d8d-9835-916fbd378f1f",
   "metadata": {},
   "outputs": [],
   "source": [
    "#compute probability of a file to be change when a commit is done\n",
    "instances = df_selected['old_file'].tolist()\n",
    "\n",
    "#count occurencies\n",
    "prob_mod_file = {}\n",
    "for instance in instances:\n",
    "    for file in instance:\n",
    "        index = id_to_file[file]\n",
    "        if index not in prob_mod_file.keys():\n",
    "            prob_mod_file[index] = 1\n",
    "        else:\n",
    "            prob_mod_file[index] = prob_mod_file[index] + 1\n",
    "\n",
    "#divide by the total number of commits\n",
    "total_commit = len(instances)\n",
    "for key in prob_mod_file:\n",
    "    prob_mod_file[key] = prob_mod_file[key]/total_commit"
   ]
  },
  {
   "cell_type": "code",
   "execution_count": 309,
   "id": "80a37680-c331-43a6-8724-2ad7d34e49ea",
   "metadata": {},
   "outputs": [],
   "source": [
    "#create randomly instance and target for training\n",
    "data_size = 10000\n",
    "x = np.empty([data_size, len(unique_filepath)], dtype=int)\n",
    "y = np.empty([data_size, len(unique_filepath)], dtype=int)\n",
    "\n",
    "c = 0\n",
    "while c < data_size-1:\n",
    "    for instance in instances:\n",
    "        if len(instance) == 1: continue\n",
    "        elif len(instance) == 2:\n",
    "            num_file_mod = 1\n",
    "        else:\n",
    "            num_file_mod = np.random.randint(1, len(instance)-1)\n",
    "\n",
    "        ids = [id_to_file[file] for file in instance]\n",
    "        file_mod = 0\n",
    "        tmp_x = np.zeros([1, len(unique_filepath)])\n",
    "        tmp_y = np.zeros([1, len(unique_filepath)])\n",
    "        while file_mod < num_file_mod:\n",
    "            id = np.random.choice(ids)\n",
    "            if random.random() > prob_mod_file[id]:\n",
    "                tmp_x = tmp_x + sparse_vectors[id]\n",
    "                file_mod += 1\n",
    "                ids.remove(id)\n",
    "\n",
    "        assert len(ids) > 0\n",
    "        tmp_y = np.sum(sparse_vectors[ids],axis=0)\n",
    "        x[c] = tmp_x\n",
    "        y[c] = tmp_y\n",
    "        c+=1\n",
    "        if c > data_size-1: break\n",
    "    "
   ]
  },
  {
   "cell_type": "code",
   "execution_count": 313,
   "id": "0552d8cd-1884-4e3e-89d3-5290d6cfc885",
   "metadata": {},
   "outputs": [
    {
     "data": {
      "text/plain": [
       "False"
      ]
     },
     "execution_count": 313,
     "metadata": {},
     "output_type": "execute_result"
    }
   ],
   "source": [
    "np.any(np.sum(x, axis=1)==0)"
   ]
  },
  {
   "cell_type": "code",
   "execution_count": 315,
   "id": "a3526178-0a0a-4efd-aaac-097be24f9ff0",
   "metadata": {},
   "outputs": [
    {
     "data": {
      "text/plain": [
       "False"
      ]
     },
     "execution_count": 315,
     "metadata": {},
     "output_type": "execute_result"
    }
   ],
   "source": [
    "np.any(np.sum(y, axis=1)==0)"
   ]
  },
  {
   "cell_type": "code",
   "execution_count": 275,
   "id": "ef20da05-83ec-4194-9d2f-ea16a6f9706a",
   "metadata": {},
   "outputs": [
    {
     "name": "stdout",
     "output_type": "stream",
     "text": [
      "[[3 4]\n",
      " [2 3]\n",
      " [4 6]\n",
      " [7 6]]\n"
     ]
    },
    {
     "data": {
      "text/plain": [
       "array([6, 9])"
      ]
     },
     "execution_count": 275,
     "metadata": {},
     "output_type": "execute_result"
    }
   ],
   "source": [
    "a = np.array([[3,4],[2,3], [4,6], [7,6]])\n",
    "print(a) \n",
    "b = np.sum(a[[1,2]],axis=0)\n",
    "b"
   ]
  },
  {
   "cell_type": "code",
   "execution_count": 260,
   "id": "0af6139f-95e1-4d0e-a073-f37f2cddfa1d",
   "metadata": {},
   "outputs": [],
   "source": [
    "a = [2,3,5,6,7,8]\n",
    "b = 5\n",
    "a.remove(b)"
   ]
  },
  {
   "cell_type": "code",
   "execution_count": 261,
   "id": "ca70d15e-a8ba-4d33-be48-cc5cf8b047e2",
   "metadata": {},
   "outputs": [
    {
     "data": {
      "text/plain": [
       "[2, 3, 6, 7, 8]"
      ]
     },
     "execution_count": 261,
     "metadata": {},
     "output_type": "execute_result"
    }
   ],
   "source": [
    "a"
   ]
  },
  {
   "cell_type": "code",
   "execution_count": null,
   "id": "2e5f4fa6-c7aa-4e17-bb7d-5609cc12dc2c",
   "metadata": {},
   "outputs": [],
   "source": [
    "#compute max and min depth filepath \n",
    "#file_depth = [len(file.split('/')) for file in unique_filepath]\n",
    "#unique_filepath_split = [file.split('/') for file in unique_filepath]\n",
    "#print(f\"Max file depth: {max(file_depth)}\")\n",
    "#print(f\"Min file depth: {min(file_depth)}\")\n",
    "\n",
    "\n",
    "#since the root dir is equal for every file (arcan-2/) it can be the removed --- no information\n",
    "#for each level associate an id to each of the dirs/files at that level\n",
    "#id_per_level = {}\n",
    "#for i in range(0,max(file_depth)):\n",
    "#    index = 1\n",
    "#    level = {}\n",
    "#    for filepath_split in unique_filepath_split:\n",
    "#        if len(filepath_split) >= i+1:\n",
    "#            if filepath_split[i] not in level.keys():\n",
    "#                level[filepath_split[i]] = index\n",
    "#                index += 1\n",
    "#            else: continue\n",
    "#        else: continue\n",
    "#    id_per_level['level_'+str(i)] = level\n",
    "\n",
    "#Map each filepath as vector of 13 dimensions"
   ]
  }
 ],
 "metadata": {
  "kernelspec": {
   "display_name": "Python 3 (ipykernel)",
   "language": "python",
   "name": "python3"
  },
  "language_info": {
   "codemirror_mode": {
    "name": "ipython",
    "version": 3
   },
   "file_extension": ".py",
   "mimetype": "text/x-python",
   "name": "python",
   "nbconvert_exporter": "python",
   "pygments_lexer": "ipython3",
   "version": "3.8.10"
  }
 },
 "nbformat": 4,
 "nbformat_minor": 5
}
